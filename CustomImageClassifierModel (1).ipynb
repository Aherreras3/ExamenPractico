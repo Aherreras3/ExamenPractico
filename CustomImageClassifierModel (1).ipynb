{
  "nbformat": 4,
  "nbformat_minor": 0,
  "metadata": {
    "colab": {
      "name": "CustomImageClassifierModel.ipynb",
      "provenance": []
    },
    "kernelspec": {
      "name": "python3",
      "display_name": "Python 3"
    },
    "language_info": {
      "name": "python"
    },
    "accelerator": "GPU"
  },
  "cells": [
    {
      "cell_type": "code",
      "metadata": {
        "id": "Awq8sMaIFHJ1"
      },
      "source": [
        "# Install Model maker\n",
        "!pip install -q tflite-model-maker &> /dev/null"
      ],
      "execution_count": 1,
      "outputs": []
    },
    {
      "cell_type": "code",
      "source": [
        "from google.colab import drive\n",
        "drive.mount('/content/drive')"
      ],
      "metadata": {
        "colab": {
          "base_uri": "https://localhost:8080/"
        },
        "id": "VHmRQbTwlhdN",
        "outputId": "1be5ff54-51c0-4efe-ab14-d85ea2fcb17b"
      },
      "execution_count": 2,
      "outputs": [
        {
          "output_type": "stream",
          "name": "stdout",
          "text": [
            "Mounted at /content/drive\n"
          ]
        }
      ]
    },
    {
      "cell_type": "code",
      "metadata": {
        "id": "2fEAqoLLF6O9",
        "colab": {
          "base_uri": "https://localhost:8080/"
        },
        "outputId": "91510f3d-fc0d-41cf-bea3-b33068d4f607"
      },
      "source": [
        "# Imports and check that we are using TF2.x\n",
        "import numpy as np\n",
        "import os\n",
        "\n",
        "from tflite_model_maker import configs\n",
        "from tflite_model_maker import ExportFormat\n",
        "from tflite_model_maker import model_spec\n",
        "from tflite_model_maker import image_classifier\n",
        "from tflite_model_maker.image_classifier import DataLoader\n",
        "\n",
        "import tensorflow as tf\n",
        "assert tf.__version__.startswith('2')\n",
        "tf.get_logger().setLevel('ERROR')"
      ],
      "execution_count": 3,
      "outputs": [
        {
          "output_type": "stream",
          "name": "stderr",
          "text": [
            "/usr/local/lib/python3.9/dist-packages/tensorflow_addons/utils/ensure_tf_install.py:53: UserWarning: Tensorflow Addons supports using Python ops for all Tensorflow versions above or equal to 2.9.0 and strictly below 2.12.0 (nightly versions are not supported). \n",
            " The versions of TensorFlow you are currently using is 2.8.4 and is not supported. \n",
            "Some things might work, some things might not.\n",
            "If you were to encounter a bug, do not file an issue.\n",
            "If you want to make sure you're using a tested and supported configuration, either change the TensorFlow version or the TensorFlow Addons's version. \n",
            "You can find the compatibility matrix in TensorFlow Addon's readme:\n",
            "https://github.com/tensorflow/addons\n",
            "  warnings.warn(\n"
          ]
        }
      ]
    },
    {
      "cell_type": "code",
      "metadata": {
        "id": "1BnQatXYIcEa",
        "colab": {
          "base_uri": "https://localhost:8080/"
        },
        "outputId": "abb3c115-af2b-4c34-ee94-3a6f06639f26"
      },
      "source": [
        "data_path = tf.keras.utils.get_file(\n",
        "      '/content/drive/MyDrive/FACULTADES3',\n",
        "      'https://drive.google.com/drive/folders/1Tps9NxaGaO_5EpADihcS6y4vtksl-FcQ?usp=share_link',\n",
        "      untar=True)"
      ],
      "execution_count": 4,
      "outputs": [
        {
          "output_type": "stream",
          "name": "stdout",
          "text": [
            "Downloading data from https://drive.google.com/drive/folders/1Tps9NxaGaO_5EpADihcS6y4vtksl-FcQ?usp=share_link\n",
            " 188416/Unknown - 0s 2us/step"
          ]
        }
      ]
    },
    {
      "cell_type": "code",
      "metadata": {
        "id": "VJjNwiEkIgfh"
      },
      "source": [
        "data = DataLoader.from_folder(data_path)\n",
        "train_data, test_data = data.split(0.9)"
      ],
      "execution_count": 5,
      "outputs": []
    },
    {
      "cell_type": "code",
      "metadata": {
        "id": "XsQSgI-WIkW0",
        "colab": {
          "base_uri": "https://localhost:8080/"
        },
        "outputId": "20699f9a-47a0-4e54-b1af-7c7dded2e981"
      },
      "source": [
        "model = image_classifier.create(train_data)"
      ],
      "execution_count": 6,
      "outputs": [
        {
          "output_type": "stream",
          "name": "stdout",
          "text": [
            "Model: \"sequential\"\n",
            "_________________________________________________________________\n",
            " Layer (type)                Output Shape              Param #   \n",
            "=================================================================\n",
            " hub_keras_layer_v1v2 (HubKe  (None, 1280)             3413024   \n",
            " rasLayerV1V2)                                                   \n",
            "                                                                 \n",
            " dropout (Dropout)           (None, 1280)              0         \n",
            "                                                                 \n",
            " dense (Dense)               (None, 5)                 6405      \n",
            "                                                                 \n",
            "=================================================================\n",
            "Total params: 3,419,429\n",
            "Trainable params: 6,405\n",
            "Non-trainable params: 3,413,024\n",
            "_________________________________________________________________\n",
            "None\n",
            "Epoch 1/5\n",
            "21/21 [==============================] - 385s 17s/step - loss: 1.0637 - accuracy: 0.6786\n",
            "Epoch 2/5\n",
            "21/21 [==============================] - 340s 16s/step - loss: 0.5297 - accuracy: 0.9628\n",
            "Epoch 3/5\n",
            "21/21 [==============================] - 346s 16s/step - loss: 0.4686 - accuracy: 0.9896\n",
            "Epoch 4/5\n",
            "21/21 [==============================] - 344s 16s/step - loss: 0.4503 - accuracy: 0.9985\n",
            "Epoch 5/5\n",
            "21/21 [==============================] - 337s 16s/step - loss: 0.4471 - accuracy: 0.9985\n"
          ]
        }
      ]
    },
    {
      "cell_type": "code",
      "metadata": {
        "id": "v5RXPXiiIoC8",
        "colab": {
          "base_uri": "https://localhost:8080/"
        },
        "outputId": "65d90a3f-e4b6-4f0d-a4f9-b4f6eb182d43"
      },
      "source": [
        "loss, accuracy = model.evaluate(test_data)"
      ],
      "execution_count": 7,
      "outputs": [
        {
          "output_type": "stream",
          "name": "stdout",
          "text": [
            "3/3 [==============================] - 97s 11s/step - loss: 0.4479 - accuracy: 1.0000\n"
          ]
        }
      ]
    },
    {
      "cell_type": "code",
      "metadata": {
        "id": "M1BH-Im2IqaG",
        "colab": {
          "base_uri": "https://localhost:8080/"
        },
        "outputId": "c0735f77-0eba-466a-d5d4-318673c95167"
      },
      "source": [
        "model.export(export_dir='/content/drive/MyDrive')"
      ],
      "execution_count": 8,
      "outputs": [
        {
          "output_type": "stream",
          "name": "stderr",
          "text": [
            "/usr/local/lib/python3.9/dist-packages/tensorflow/lite/python/convert.py:746: UserWarning: Statistics for quantized inputs were expected, but not specified; continuing anyway.\n",
            "  warnings.warn(\"Statistics for quantized inputs were expected, but not \"\n"
          ]
        }
      ]
    }
  ]
}